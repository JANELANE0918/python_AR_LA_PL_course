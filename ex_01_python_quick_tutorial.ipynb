{
 "cells": [
  {
   "cell_type": "markdown",
   "id": "21af3f2f-0811-4624-8ec7-aa034c2e7123",
   "metadata": {},
   "source": [
    "print(\"Hello python~\") \n",
    "print(\".\"*18) \n",
    "print(\"幼儿园设计太难了！！！\") \n",
    "print(\"I am willing to weave the best myth for you.\")"
   ]
  },
  {
   "cell_type": "code",
   "execution_count": 2,
   "id": "6957582c-5a8e-4260-9572-9a193e6eb099",
   "metadata": {},
   "outputs": [
    {
     "name": "stdout",
     "output_type": "stream",
     "text": [
      "加： 10\n",
      "减： 10\n",
      "乘： 27\n",
      "除： 0.375\n",
      "整除： 0\n",
      "余数： 3\n",
      "幂： 81\n",
      "True\n",
      "3\n",
      "False\n"
     ]
    }
   ],
   "source": [
    "print(\"加：\",9+1) #简单的运算\n",
    "print(\"减：\",11-1)\n",
    "print(\"乘：\",3*9)\n",
    "print(\"除：\", 3/8)\n",
    "print(\"整除：\", 3//8)\n",
    "print(\"余数：\", 3%8)\n",
    "print(\"幂：\",3**4)\n",
    "print(4!=3)\n",
    "print(7^4)\n",
    "print(7<=4)"
   ]
  },
  {
   "cell_type": "code",
   "execution_count": 14,
   "id": "4111fdc8-ca77-4e85-bce4-9a6996096d4d",
   "metadata": {},
   "outputs": [
    {
     "name": "stdout",
     "output_type": "stream",
     "text": [
      "monadic_equation= 37.0\n",
      "monadic_equation=37.000\n",
      "monadic_equation=37.0000\n"
     ]
    }
   ],
   "source": [
    "x=18.0#注意逻辑顺序\n",
    "monadic_equation=2*x+1\n",
    "print(\"monadic_equation=\",monadic_equation)\n",
    "print(\"monadic_equation=%.3f\"%monadic_equation) #f前数字表示小数点的位数\n",
    "print(\"monadic_equation={:.4f}\".format(monadic_equation)) # f前数字表示小数点的位数"
   ]
  },
  {
   "cell_type": "code",
   "execution_count": 3,
   "id": "f18152fd-3b3b-43ba-8431-56d0ddbdff3c",
   "metadata": {},
   "outputs": [
    {
     "name": "stdout",
     "output_type": "stream",
     "text": [
      "Jane′s height is 164.33, and her weight is 48.4445.\n"
     ]
    }
   ],
   "source": [
    "Name=\"Jane\"#若单词有空格，可用-连接\n",
    "height=164.332\n",
    "weight=48.4445\n",
    "print(\"Jane′s height is {hei:.2f}, and her weight is {wei}.\".format(hei=height,wei=weight))"
   ]
  },
  {
   "cell_type": "code",
   "execution_count": 4,
   "id": "f3163fbc-dc48-4f58-863c-2fe8765a9a0b",
   "metadata": {},
   "outputs": [
    {
     "name": "stdout",
     "output_type": "stream",
     "text": [
      "func_2=8\n"
     ]
    }
   ],
   "source": [
    "x,y,b=1,2,4\n",
    "func_2=2*x+y+b\n",
    "print(\"func_2={}\".format(func_2))\n",
    "#函数公式赋值运算，第三个（）里是format的取代量"
   ]
  },
  {
   "cell_type": "code",
   "execution_count": 28,
   "id": "8d815393-0ba5-4d41-a475-ad49a93517f2",
   "metadata": {},
   "outputs": [
    {
     "name": "stdout",
     "output_type": "stream",
     "text": [
      "[5, 9, 13, 17]\n",
      "The list length=4\n",
      "Maximum value=17\n",
      "Minimum value=5\n"
     ]
    }
   ],
   "source": [
    "lst_n=list(range(5,18,4)) #range(start,stop,[,step])建立区间，只算开始不算结束\n",
    "print(lst_n)len\n",
    "print(\"The list length={}\".format(len(lst_n)))#len是镜头的缩写\n",
    "print(\"Maximum value={}\".format(max(lst_n)))\n",
    "print(\"Minimum value={}\".format(min(lst_n)))"
   ]
  },
  {
   "cell_type": "code",
   "execution_count": 101,
   "id": "59d59828-75dd-48ed-9b38-6fb6f4c27715",
   "metadata": {},
   "outputs": [
    {
     "name": "stdout",
     "output_type": "stream",
     "text": [
      "['X', 'Y', 'Z', '[', '\\\\', ']', '^', '_', '`', 'a', 'b', 'c', 'd', 'e', 'f', 'g', 'h', 'i', 'j', 'k', 'l', 'm']\n",
      "[1:6]->['Y', 'Z', '[', '\\\\', ']']\n",
      "[-1:-1]->[]\n",
      "[-1:]->['m']\n",
      "[:1]->['X']\n",
      "[:]->['X', 'Y', 'Z', '[', '\\\\', ']', '^', '_', '`', 'a', 'b', 'c', 'd', 'e', 'f', 'g', 'h', 'i', 'j', 'k', 'l', 'm']\n"
     ]
    }
   ],
   "source": [
    "lst_s=list(map(chr,range(88,110)))#map是映射的缩写， chr是字符的缩写\n",
    "print(lst_s)\n",
    "print(\"[1:6]->{}\".format(lst_s[1:6]))\n",
    "print(\"[-1:-1]->{}\".format(lst_s[-1:-1]))\n",
    "print(\"[-1:]->{}\".format(lst_s[-1:]))\n",
    "print(\"[:1]->{}\".format(lst_s[:1]))\n",
    "print(\"[:]->{}\".format(lst_s[:]))"
   ]
  },
  {
   "cell_type": "code",
   "execution_count": 86,
   "id": "0d0ff7d9-074e-43a6-a497-63e755dc5417",
   "metadata": {},
   "outputs": [
    {
     "name": "stdout",
     "output_type": "stream",
     "text": [
      "['i', 'j', 'k', 'l', 'm']\n",
      "[0:8:1]->['i', 'j', 'k', 'l', 'm']\n",
      "[::3]->['i', 'l']\n",
      "[9:3:-1]->['m']\n",
      "[20:3:-2]->['m']\n",
      "[7::-1]->['m', 'l', 'k', 'j', 'i']\n"
     ]
    }
   ],
   "source": [
    "print(lst_s)\n",
    "print(\"[0:8:1]->{}\".format(lst_s[0:8:1]))\n",
    "print(\"[::3]->{}\".format(lst_s[::3]))\n",
    "print(\"[9:3:-1]->{}\".format(lst_s[9:3:-1]))\n",
    "print(\"[20:3:-2]->{}\".format(lst_s[20:3:-2]))\n",
    "print(\"[7::-1]->{}\".format(lst_s[7::-1]))"
   ]
  },
  {
   "cell_type": "code",
   "execution_count": 133,
   "id": "8511f2b5-f45a-46b7-8560-3def7a8c22e4",
   "metadata": {},
   "outputs": [
    {
     "name": "stdout",
     "output_type": "stream",
     "text": [
      "['X', 'Y', 'Z', '[', '\\\\', 88, '^', '_', '`', 'a', 'b', 'c', 'd', 'e', 'f', 'g', 'h', 'i', 'j', 'k', 'l', 'm']\n",
      "________________________________________________________________________________\n",
      "lst_s[5]=88->['X', 'Y', 'Z', '[', '\\\\', 88, '^', '_', '`', 'a', 'b', 'c', 'd', 'e', 'f', 'g', 'h', 'i', 'j', 'k', 'l', 'm']\n",
      "lst_s+[None]*6->['X', 'Y', 'Z', '[', '\\\\', 88, '^', '_', '`', 'a', 'b', 'c', 'd', 'e', 'f', 'g', 'h', 'i', 'j', 'k', 'l', 'm', None, None, None, None, None, None]\n",
      "lst_none[13]=2021->['X', 'Y', 'Z', '[', '\\\\', 88, '^', '_', '`', 'a', 'b', 'c', 'd', 2021, 'f', 'g', 'h', 'i', 'j', 'k', 'l', 'm', None, None, None, None, None, None]\n",
      "lst_none[-6:-3]=list(range(89,103,2))->['X', 'Y', 'Z', '[', '\\\\', 88, '^', '_', '`', 'a', 'b', 'c', 'd', 2021, 'f', 'g', 'h', 'i', 'j', 'k', 'l', 'm', 89, 91, 93, 95, 97, 99, 101, None, None, None]\n",
      "lst_none[1:1]=[0,0,0,12]->['X', 0, 0, 0, 12, 'Y', 'Z', '[', '\\\\', 88, '^', '_', '`', 'a', 'b', 'c', 'd', 2021, 'f', 'g', 'h', 'i', 'j', 'k', 'l', 'm', 89, 91, 93, 95, 97, 99, 101, None, None, None]\n",
      "del lst_none[-2:]->['X', 0, 0, 0, 12, 'Y', 'Z', '[', '\\\\', 88, '^', '_', '`', 'a', 'b', 'c', 'd', 2021, 'f', 'g', 'h', 'i', 'j', 'k', 'l', 'm', 89, 91, 93, 95, 97, 99, 101, None]\n"
     ]
    }
   ],
   "source": [
    "print(lst_s)\n",
    "print(\"_\"*80)\n",
    "lst_s[5]=88 #元素赋值，lst用【】\n",
    "print(\"lst_s[5]=88->{}\".format(lst_s))\n",
    "lst_none=lst_s+[None]*6\n",
    "print(\"lst_s+[None]*6->{}\".format(lst_none))\n",
    "lst_none[13]=2021\n",
    "print(\"lst_none[13]=2021->{}\".format(lst_none))\n",
    "lst_none[-6:-3]=list(range(89,103,2)) #分片赋值\n",
    "print(\"lst_none[-6:-3]=list(range(89,103,2))->{}\".format(lst_none))\n",
    "lst_none[1:1]=[0,0,0,12]#第一个到最后一个\n",
    "print(\"lst_none[1:1]=[0,0,0,12]->{}\".format(lst_none))\n",
    "del lst_none[-2:] #删除元素\n",
    "print(\"del lst_none[-2:]->{}\".format(lst_none))\n",
    "\n"
   ]
  },
  {
   "cell_type": "code",
   "execution_count": 135,
   "id": "f4063619-7db5-486d-915c-21e9bdfb0dcd",
   "metadata": {},
   "outputs": [
    {
     "name": "stdout",
     "output_type": "stream",
     "text": [
      "['e', 'f', 'g', 'h']\n",
      "________________________________________________________________________________________\n",
      "lst_s_2.append(89)->['e', 'f', 'g', 'h', 89]\n",
      "lst_s_2.append(list(range(50,80,5)))->['e', 'f', 'g', 'h', 89, [50, 55, 60, 65, 70, 75]]\n",
      "lst_s_2.extend(lst_spechars)->['e', 'f', 'g', 'h', 89, [50, 55, 60, 65, 70, 75], '*', ')', '*']\n",
      "lst_s_2.count('*')=2\n",
      "lst_s_2.index('e')=0\n",
      "lst_s_2.insert(2,[1000,1200,1500])->['e', 'f', [1000, 1200, 1500], 'g', 'h', 89, [50, 55, 60, 65, 70, 75], '*', ')', '*']\n",
      "lst_s_2.pop(7)_popup->*\n",
      "lst_s_2.pop(7)_retention->['e', 'f', [1000, 1200, 1500], 'g', 'h', 89, [50, 55, 60, 65, 70, 75], ')', '*']\n",
      "lst_s_2.remove('*')_retention->['e', 'f', [1000, 1200, 1500], 'g', 'h', 89, [50, 55, 60, 65, 70, 75], ')']\n",
      "list_n_2.sort()->[1, 3, 5, 6, 22, 45]\n"
     ]
    }
   ],
   "source": [
    "lst_s_2=list(map(chr,range(101,105)))#将list的数带入函数，得出新的list\n",
    "print(lst_s_2)\n",
    "print(\"_\"*88)\n",
    "lst_s_2.append(89)#最后面加append\n",
    "print(\"lst_s_2.append(89)->{}\".format(lst_s_2))\n",
    "lst_s_2.append(list(range(50,80,5)))\n",
    "print(\"lst_s_2.append(list(range(50,80,5)))->{}\".format(lst_s_2))\n",
    "lst_spechars=['*',')','*']\n",
    "lst_s_2.extend(lst_spechars)\n",
    "print(\"lst_s_2.extend(lst_spechars)->{}\".format(lst_s_2))\n",
    "print(\"lst_s_2.count('*')={}\".format(lst_s_2.count('*')))\n",
    "print(\"lst_s_2.index('e')={}\".format(lst_s_2.index('e')))\n",
    "lst_s_2.insert(2,[1000,1200,1500])\n",
    "print(\"lst_s_2.insert(2,[1000,1200,1500])->{}\".format(lst_s_2))\n",
    "print(\"lst_s_2.pop(7)_popup->{}\".format(lst_s_2.pop(7)))\n",
    "print(\"lst_s_2.pop(7)_retention->{}\".format(lst_s_2))\n",
    "lst_s_2.remove('*')\n",
    "print(\"lst_s_2.remove('*')_retention->{}\".format(lst_s_2))\n",
    "list_n_2=[1,22,6,45,5,3]\n",
    "list_n_2.sort()\n",
    "print(\"list_n_2.sort()->{}\".format(list_n_2))\n"
   ]
  },
  {
   "cell_type": "code",
   "execution_count": 126,
   "id": "23e1de0b-d4f0-49e5-88bf-e94992e942ad",
   "metadata": {},
   "outputs": [
    {
     "name": "stdout",
     "output_type": "stream",
     "text": [
      "tuple_1=1,2,3,->(1, 2, 3)\n",
      "3*(20*3,)->(24, 24, 24, 24)\n",
      "tuple((1,2,3))->(1, 2, 3)\n",
      "tuple([2,4,9])->(2, 4, 9)\n"
     ]
    }
   ],
   "source": [
    "tuple_1=1,2,3\n",
    "print(\"tuple_1=1,2,3,->{}\".format(tuple_1))\n",
    "print(\"3*(20*3,)->{}\".format(4*(8*3,)))\n",
    "print(\"tuple((1,2,3))->{}\".format(tuple((1,2,3)))) #用()\n",
    "print(\"tuple([2,4,9])->{}\".format(tuple([2,4,9]))) #用[]"
   ]
  },
  {
   "cell_type": "code",
   "execution_count": 130,
   "id": "de34afb7-aa8d-4a38-99ac-eba461624525",
   "metadata": {},
   "outputs": [
    {
     "name": "stdout",
     "output_type": "stream",
     "text": [
      "items->[(0, [0, 1, 2, 3, 4, 5, 6, 7]), (1, [[198, 163, 177]]), (2, 'world')]\n",
      "dic=dict(items)->{0: [0, 1, 2, 3, 4, 5, 6, 7], 1: [[198, 163, 177]], 2: 'world'}\n",
      "dic[1]->[[198, 163, 177]]\n"
     ]
    }
   ],
   "source": [
    "import random\n",
    "items=[(0,[i for i in range(8)]),(1,[random.sample(list(range(150,200,1)),3)]),(2,'world')]\n",
    "print(\"items->{}\".format(items))\n",
    "dic=dict(items)\n",
    "print(\"dic=dict(items)->{}\".format(dic))\n",
    "print(\"dic[1]->{}\".format(dic[1]))"
   ]
  },
  {
   "cell_type": "code",
   "execution_count": 153,
   "id": "f340618a-8988-4ba5-b945-b04a9a7fe49d",
   "metadata": {},
   "outputs": [
    {
     "name": "stdout",
     "output_type": "stream",
     "text": [
      "len(dic)->3\n",
      "dic[3]=(random.random(),random.uniform(200,300))->{0: [0, 1, 2, 3, 4, 5, 6, 7], 2: 'world', 3: (0.11061941717803025, 269.3949888432919)}\n",
      "del dic[1]->{0: [0, 1, 2, 3, 4, 5, 6, 7], 2: 'world', 3: (0.11061941717803025, 269.3949888432919)}\n",
      "3 in dic->True\n",
      "7 in dic->False\n",
      "dic.keys()->dict_keys([0, 2, 3])\n",
      "dic.values()->dict_values([[0, 1, 2, 3, 4, 5, 6, 7], 'world', (0.11061941717803025, 269.3949888432919)])\n",
      "dic.items()->dict_items([(0, [0, 1, 2, 3, 4, 5, 6, 7]), (2, 'world'), (3, (0.11061941717803025, 269.3949888432919))])\n",
      "________________________________________________________________________________________\n",
      "list(dic.keys())->[0, 2, 3]\n"
     ]
    }
   ],
   "source": [
    "print(\"len(dic)->{}\".format(len(dic)))\n",
    "dic[3]=(random.random(),random.uniform(200,300))\n",
    "print(\"dic[3]=(random.random(),random.uniform(200,300))->{}\".format(dic))\n",
    "print(\"del dic[1]->{}\".format(dic))\n",
    "print(\"3 in dic->{}\".format(3 in dic))\n",
    "print(\"7 in dic->{}\".format(7 in dic))\n",
    "print(\"dic.keys()->{}\".format(dic.keys())) #应该放在字典的方法一节里\n",
    "print(\"dic.values()->{}\".format(dic.values()))\n",
    "print(\"dic.items()->{}\".format(dic.items()))\n",
    "print(\"_\"*88)\n",
    "print(\"list(dic.keys())->{}\".format(list(dic.keys())))"
   ]
  },
  {
   "cell_type": "code",
   "execution_count": 8,
   "id": "16ed9d1c-c595-4f17-8054-82f6f89ee794",
   "metadata": {},
   "outputs": [
    {
     "name": "stdout",
     "output_type": "stream",
     "text": [
      "lst_A=[6, 9, 12, 15, 18],lst_B=[100, 115, 130, 145]\n",
      "dic_2={0: [6, 9, 12, 15, 18], 1: [100, 115, 130, 145]}\n",
      "__________________________________________________\n",
      "dic_assignment={0: [6, 9, 12, 15, 18], 1: [100, 115, 130, 145]}\n",
      "dic_2.clear()->{}\n",
      "dic_assignment={}\n",
      "dic_2[5]=list(range(1,9,2))->{5: [1, 3, 5, 7]}\n",
      "dic_copy=dic_2.copy()->{5: [1, 3, 5, 7]}\n",
      "dic_2[8]=[5,7]->{5: [1, 3, 5, 7], 8: [5, 7]}\n",
      "dic_copy={5: [1, 3, 5, 7]}\n",
      "dic_copy[5].remove(5)->{5: [1, 3, 7]}\n",
      "dic_copy.setdefault(6,[77,99])->{5: [1, 3, 7], 6: [77, 99]}\n",
      "dic_2.pop(5)->{8: [5, 7]}\n",
      "dic_update={8: [5, 7, 6, 3, 2], 9: [3, 2, 33, 55, 66]}\n",
      "dic_2.update(dic_update->{8: [5, 7, 6, 3, 2], 9: [3, 2, 33, 55, 66]}\n",
      "dic_2.get(9)->[3, 2, 33, 55, 66]\n",
      "dic_2.popitem()->{8: [5, 7, 6, 3, 2]}\n",
      "dic_3={}.fromkeys([0,1,2,3,4,'A'])->{0: None, 1: None, 2: None, 3: None, 4: None, 'A': None}\n"
     ]
    }
   ],
   "source": [
    "lst_A=list(range(6,21,3))\n",
    "lst_B=list(range(100,160,15))\n",
    "print(\"lst_A={},lst_B={}\".format(lst_A,lst_B))\n",
    "dic_2={0:lst_A,1:lst_B}\n",
    "print(\"dic_2={}\".format(dic_2))\n",
    "print(\"_\"*50)\n",
    "dic_assignment=dic_2\n",
    "print(\"dic_assignment={}\".format(dic_assignment))\n",
    "dic_2.clear()\n",
    "print(\"dic_2.clear()->{}\".format(dic_2))\n",
    "print(\"dic_assignment={}\".format(dic_assignment))\n",
    "dic_2[5]=list(range(1,9,2))\n",
    "print(\"dic_2[5]=list(range(1,9,2))->{}\".format(dic_2))\n",
    "dic_copy=dic_2.copy()\n",
    "print(\"dic_copy=dic_2.copy()->{}\".format(dic_copy))\n",
    "dic_2[8]=[5,7]\n",
    "print(\"dic_2[8]=[5,7]->{}\".format(dic_2))\n",
    "print(\"dic_copy={}\".format(dic_copy))\n",
    "dic_copy[5].remove(5)\n",
    "print(\"dic_copy[5].remove(5)->{}\".format(dic_copy))\n",
    "dic_copy.setdefault(6,[77,99]) #返回指定键的值，如果不存在该键，则字典增加新的键值对\n",
    "print(\"dic_copy.setdefault(6,[77,99])->{}\".format(dic_copy))\n",
    "dic_2.pop(5) #移除指定键/值，并返回该值\n",
    "print(\"dic_2.pop(5)->{}\".format(dic_2))\n",
    "dic_update={8:[5,7,6,3,2],9:[3,2,33,55,66]}\n",
    "print(\"dic_update={}\".format(dic_update))\n",
    "dic_2.update(dic_update) #更新字典\n",
    "print(\"dic_2.update(dic_update->{}\".format(dic_2))\n",
    "print(\"dic_2.get(9)->{}\".format(dic_2.get(9)))\n",
    "dic_2.popitem() #随即弹出一对键值，并在该字典中移除\n",
    "print(\"dic_2.popitem()->{}\".format(dic_2))\n",
    "\n",
    "dic_3={}.fromkeys([0,1,2,3,4,'A']) #给定键，建立值为空的字典\n",
    "print(\"dic_3={}\"+\".fromkeys([0,1,2,3,4,'A'])->{}\".format(dic_3)) #找下escape characters 脱字符"
   ]
  },
  {
   "cell_type": "code",
   "execution_count": 19,
   "id": "4ce18c30-e1b8-4bcd-93cd-92818a90e241",
   "metadata": {},
   "outputs": [
    {
     "name": "stdout",
     "output_type": "stream",
     "text": [
      "new_str=format_str % values->Hi,world and Grasshopper!\n",
      "new_str_2=format_str_2 % (pi,3.1415)->Pi with three decimals:3.142,and enter a value with percent sign:3.14 %\n"
     ]
    }
   ],
   "source": [
    "format_str=\"Hi,%s and %s!\"\n",
    "values=(\"world\",\"Grasshopper\")\n",
    "new_str=format_str % values\n",
    "print(\"new_str=format_str % values->{}\".format(new_str))\n",
    "format_str_2=\"Pi with three decimals:%.3f,and enter a value with percent sign:%.2f %%\" #如果字符串里包含实际的%，则通过%%即两个百分号进行转义\n",
    "from math import pi\n",
    "new_str_2=format_str_2 % (pi,3.1415)\n",
    "print(\"new_str_2=format_str_2 % (pi,3.1415)->{}\".format(new_str_2))"
   ]
  },
  {
   "cell_type": "code",
   "execution_count": 17,
   "id": "8c181ac8-a8ab-4e78-b13a-21f4351cb7f1",
   "metadata": {},
   "outputs": [
    {
     "name": "stdout",
     "output_type": "stream",
     "text": [
      "  3.141593,     3.142,3.14,Hi wo,Hi w,50,32,3.141593\n"
     ]
    }
   ],
   "source": [
    "format_str_3=\"%10f,%10.3f,%.2f,%.5s,%.*s,%d,%x,%f\"\n",
    "new_str_3=format_str_3%(pi,pi,pi,\"Hi world!\",4,\"Hi world!\",50,50,pi)\n",
    "print(\"{}\".format(new_str_3))"
   ]
  },
  {
   "cell_type": "code",
   "execution_count": 23,
   "id": "ca5448a6-bba0-4794-a927-c79c6e739592",
   "metadata": {},
   "outputs": [
    {
     "name": "stdout",
     "output_type": "stream",
     "text": [
      "s_1=s_template_1.substitute(x=\"world\")->world,key,world!\n",
      "s_2=s_template_2.substitute(x=\"wo\")->world is amazing!\n",
      "substitute_dict={'x': 'world', 'y': 'Grasshopper'}\n",
      "s_3=s_template_3.substitute(substitute_dict)->world and Grasshopper are both amazing!\n"
     ]
    }
   ],
   "source": [
    "from string import Template\n",
    "s_template_1=Template(\"$x,key,$x!\")\n",
    "s_1=s_template_1.substitute(x=\"world\")\n",
    "print(\"s_1=s_template_1.substitute(x=\\\"world\\\")->{}\".format(s_1))\n",
    "s_template_2=Template(\"${x}rld is amazing!\")\n",
    "s_2=s_template_2.substitute(x=\"wo\")\n",
    "print(\"s_2=s_template_2.substitute(x=\\\"wo\\\")->{}\".format(s_2))\n",
    "s_template_3=Template(\"$x and $y are both amazing!\")\n",
    "substitute_dict=dict([('x','world'),('y','Grasshopper')])\n",
    "print(\"substitute_dict={}\".format(substitute_dict))\n",
    "s_3=s_template_3.substitute(substitute_dict)\n",
    "print(\"s_3=s_template_3.substitute(substitute_dict)->{}\".format(s_3))"
   ]
  },
  {
   "cell_type": "code",
   "execution_count": 25,
   "id": "2003decf-0e80-4639-a11f-f65bf52f373c",
   "metadata": {},
   "outputs": [
    {
     "name": "stdout",
     "output_type": "stream",
     "text": [
      "re.findall(pattern_1,text)->['world']\n",
      "re.findall(pattern_2,text)->[]\n"
     ]
    }
   ],
   "source": [
    "import re\n",
    "pattern_1='world'\n",
    "text=\"Hi world!\"\n",
    "print(\"re.findall(pattern_1,text)->{}\".format(re.findall(pattern_1,text)))\n",
    "pattern_2='World'\n",
    "print(\"re.findall(pattern_2,text)->{}\".format(re.findall(pattern_2,text)))"
   ]
  },
  {
   "cell_type": "code",
   "execution_count": 29,
   "id": "9604ca34-e14f-4e75-947f-31f56758af5a",
   "metadata": {},
   "outputs": [
    {
     "name": "stdout",
     "output_type": "stream",
     "text": [
      "re.findall('.rld','Hi world!')->['world']\n",
      "re.findall('.rld','Hi Porld!')->['Porld']\n",
      "re.findall('.rld','Hi Pworld!')->['world']\n",
      "re.findall('.rld','Hi wrld!')->[]\n"
     ]
    }
   ],
   "source": [
    "print(\"re.findall('.rld','Hi world!')->{}\".format(re.findall('.orld','Hi world!')))\n",
    "print(\"re.findall('.rld','Hi Porld!')->{}\".format(re.findall('.orld','Hi Porld!')))\n",
    "print(\"re.findall('.rld','Hi Pworld!')->{}\".format(re.findall('.orld','Hi Pworld!')))\n",
    "print(\"re.findall('.rld','Hi wrld!')->{}\".format(re.findall('.orld','Hi wrld!')))"
   ]
  },
  {
   "cell_type": "code",
   "execution_count": 30,
   "id": "bd0717e7-9295-4a97-b966-a8df2d3b6c7e",
   "metadata": {},
   "outputs": [
    {
     "name": "stdout",
     "output_type": "stream",
     "text": [
      "re.findall(r'w?cadesign\\.cn,w+\\.cadesign\\.cn','cadesign.cn,www.cadesign.cn')->['cadesign.cn,www.cadesign.cn']\n",
      "re.findall(r'w{2}\\.cadesign\\.cn','www.cadesign.cn')->['ww.cadesign.cn']\n",
      "re.findall(r'w{1,3}\\.cadesign\\.cn','www.cadesign.cn')->['www.cadesign.cn']\n"
     ]
    }
   ],
   "source": [
    "print(\"re.findall(r'w?cadesign\\.cn,w+\\.cadesign\\.cn','cadesign.cn,www.cadesign.cn')->{}\".format(re.findall(r'w?cadesign\\.cn,w+\\.cadesign\\.cn','cadesign.cn,www.cadesign.cn')))\n",
    "print(\"re.findall(r'w{2}\"+\"\\.cadesign\\.cn','www.cadesign.cn')->{}\".format(re.findall(r'w{2}\\.cadesign\\.cn','www.cadesign.cn')))\n",
    "print(\"re.findall(r'w{1,3}\"+\"\\.cadesign\\.cn','www.cadesign.cn')->{}\".format(re.findall(r'w{1,3}\\.cadesign\\.cn','www.cadesign.cn')))"
   ]
  },
  {
   "cell_type": "code",
   "execution_count": 35,
   "id": "2060aa18-48cb-4703-9840-1002d6860f83",
   "metadata": {},
   "outputs": [
    {
     "name": "stdout",
     "output_type": "stream",
     "text": [
      "re.findall('[wo]*rld!','Hi world!')->['world!']\n",
      "re.findall('[wo]*rld!','Hi wrld!')->['wrld!']\n",
      "re.findall('[wo]*rld!','Hi orld!')->['orld!']\n",
      "re.findall('[wo]*rld!','Hi orld!')->['rld!']\n"
     ]
    }
   ],
   "source": [
    "print(\"re.findall('[wo]*rld!','Hi world!')->{}\".format(re.findall('[wo]*rld!','Hi world!')))\n",
    "print(\"re.findall('[wo]*rld!','Hi wrld!')->{}\".format(re.findall('[wo]*rld!','Hi wrld!')))\n",
    "print(\"re.findall('[wo]*rld!','Hi orld!')->{}\".format(re.findall('[wo]*rld!','Hi orld!')))\n",
    "print(\"re.findall('[wo]*rld!','Hi orld!')->{}\".format(re.findall('[wo]*rld!','Hi rld!')))"
   ]
  },
  {
   "cell_type": "code",
   "execution_count": 36,
   "id": "91694952-b152-40f8-83b0-e79396c15e02",
   "metadata": {},
   "outputs": [
    {
     "name": "stdout",
     "output_type": "stream",
     "text": [
      "re.findall('world|grasshopper','world')->['world']\n",
      "re.findall('world|grasshopper','grasshopper')->['grasshopper']\n",
      "re.findall('world|grasshopper','grasshopper and world')->['grasshopper', 'world']\n"
     ]
    }
   ],
   "source": [
    "print(\"re.findall('world|grasshopper','world')->{}\".format(re.findall('world|grasshopper','world')))\n",
    "print(\"re.findall('world|grasshopper','grasshopper')->{}\".format(re.findall('world|grasshopper','grasshopper')))\n",
    "print(\"re.findall('world|grasshopper','grasshopper and world')->{}\".format(re.findall('world|grasshopper','grasshopper and world')))"
   ]
  },
  {
   "cell_type": "code",
   "execution_count": 38,
   "id": "a3819ef8-e26a-4089-945c-3ec998f444be",
   "metadata": {},
   "outputs": [
    {
     "name": "stdout",
     "output_type": "stream",
     "text": [
      "re.findall('\\d','number=8')->['8']\n",
      "re.findall('\\D','number=8')->['n', 'u', 'm', 'b', 'e', 'r', '=']\n",
      "re.findall('[^0-7]','number=8')->['n', 'u', 'm', 'b', 'e', 'r', '=', '8']\n"
     ]
    }
   ],
   "source": [
    "print(\"re.findall('\\d','number=8')->{}\".format(re.findall('\\d','number=8')))\n",
    "print(\"re.findall('\\D','number=8')->{}\".format(re.findall('\\D','number=18')))\n",
    "print(\"re.findall('[^0-7]','number=8')->{}\".format(re.findall('[^0-7]','number=8')))"
   ]
  },
  {
   "cell_type": "code",
   "execution_count": 42,
   "id": "03e81982-7870-4095-94f9-b69d40c9b1d3",
   "metadata": {},
   "outputs": [
    {
     "name": "stdout",
     "output_type": "stream",
     "text": [
      "re.findall('[a-z]','world')->['w', 'o', 'r', 'l', 'd']\n",
      "re.search('[a-z]+','world')-><re.Match object; span=(0, 5), match='world'>\n",
      "re.search('[a-z]+','world')->found it!\n",
      "re.split(',','Hi,,,,,,world!')->['Hi', '', '', '', '', '', 'world!']\n",
      "re.sub('world','Grasshopper','Hi world!')->Hi Grasshopper!\n",
      "pattern_compile.findall('Hi,,,,,,world!')->['world']\n",
      "re.match('w','world')->found it!\n"
     ]
    }
   ],
   "source": [
    "print(\"re.findall('[a-z]','world')->{}\".format(re.findall('[a-z]','world-3.0')))\n",
    "print(\"re.search('[a-z]+','world')->{}\".format(re.search('[a-z]+','world')))\n",
    "if re.search('[a-z]+','world'):\n",
    "    print(\"re.search('[a-z]+','world')->found it!\")\n",
    "print(\"re.split(',','Hi,,,,,,world!')->{}\".format(re.split(',','Hi,,,,,,world!')))\n",
    "print(\"re.sub('world','Grasshopper','Hi world!')->{}\".format(re.sub('world','Grasshopper','Hi world!')))\n",
    "pattern_compile=re.compile('world')\n",
    "print(\"pattern_compile.findall('Hi,,,,,,world!')->{}\".format(pattern_compile.findall('Hi,,,,,,world!')))\n",
    "if re.match('w','world'):\n",
    "    print(\"re.match('w','world')->found it!\")"
   ]
  },
  {
   "cell_type": "code",
   "execution_count": 44,
   "id": "859138fd-b359-4c72-b2ad-5bbbf8e498bf",
   "metadata": {},
   "outputs": [
    {
     "name": "stdout",
     "output_type": "stream",
     "text": [
      "'world'.find('world')->0\n",
      "'world'.find('rld')->2\n",
      "'world'.find('a')->-1\n",
      "'w' in 'world'->True\n"
     ]
    }
   ],
   "source": [
    "print(\"\\'world\\'.find(\\'world\\')->{}\".format('world'.find('world')))\n",
    "print(\"\\'world\\'.find(\\'rld\\')->{}\".format('world'.find('rld')))\n",
    "print(\"\\'world\\'.find(\\'a\\')->{}\".format('world'.find('a')))\n",
    "print(\"\\'w\\' in \\'world\\'->{}\".format('w' in 'world'))"
   ]
  },
  {
   "cell_type": "code",
   "execution_count": 45,
   "id": "d0215777-6423-42c0-b32f-e104bdd6ba6b",
   "metadata": {},
   "outputs": [
    {
     "name": "stdout",
     "output_type": "stream",
     "text": [
      "'Hi,,,,,,world!'.split(',')->['Hi', '', '', '', '', '', 'world!']\n",
      "'Hi world!'.replace('world','Grasshopper')->Hi Grasshopper!\n"
     ]
    }
   ],
   "source": [
    "print(\"\\'Hi,,,,,,world!\\'.split(',')->{}\".format( 'Hi,,,,,,world!'.split(',')))\n",
    "print(\"\\'Hi world!\\'.replace(\\'world\\',\\'Grasshopper\\')->{}\".format( 'Hi world!'.replace('world','Grasshopper')))"
   ]
  },
  {
   "cell_type": "code",
   "execution_count": 49,
   "id": "71001a64-db51-4af1-ac69-7e6ffed4b29e",
   "metadata": {},
   "outputs": [
    {
     "name": "stdout",
     "output_type": "stream",
     "text": [
      "match_1.gourp(1)->world\n",
      "match_1.start(1)->4\n",
      "match_1.end(1)->9\n",
      "match_1.span(1)->(4, 9)\n",
      "match_2.group(1)->world\n",
      "match_2.group(2)->owl\n"
     ]
    }
   ],
   "source": [
    "match_1=re.match(r'www\\.(.*)\\..{3}','www.world.owl')\n",
    "print(\"match_1.gourp(1)->{}\".format(match_1.group(1)))#方法返回组\n",
    "print(\"match_1.start(1)->{}\".format(match_1.start(1)))#方法获取组的开始索引值\n",
    "print(\"match_1.end(1)->{}\".format(match_1.end(1)))#获取结束位置索引值\n",
    "print(\"match_1.span(1)->{}\".format(match_1.span(1)))#返回区间值\n",
    "match_2=re.match(r'www\\.(.*)\\.(.{3})','www.world.owl')\n",
    "print(\"match_2.group(1)->{}\".format(match_2.group(1)))\n",
    "print(\"match_2.group(2)->{}\".format(match_2.group(2)))"
   ]
  },
  {
   "cell_type": "code",
   "execution_count": 69,
   "id": "90be1844-f6a9-477c-abbe-6bf10fb2639a",
   "metadata": {},
   "outputs": [
    {
     "name": "stdout",
     "output_type": "stream",
     "text": [
      "lst_1=[19, 21, 23, 25, 27, 29, 31, 33, 35]\n",
      "__________________________________________________\n",
      "for i in lst_1:\n",
      "19\n",
      "21\n",
      "23\n",
      "25\n",
      "27\n",
      "29\n",
      "31\n",
      "33\n",
      "35\n",
      "for i in range(len(lst_1)):\n",
      "idx=0,val=19\n",
      "idx=1,val=21\n",
      "idx=2,val=23\n",
      "idx=3,val=25\n",
      "idx=4,val=27\n",
      "idx=5,val=29\n",
      "idx=6,val=31\n",
      "idx=7,val=33\n",
      "idx=8,val=35\n",
      "++++++++++++++++++++++++++++++++++++++++++++++++++\n",
      "dic_4={'a': 1, 'b': 3, 'c': 8, 'd': 0}\n",
      "__________________________________________________\n",
      "for k in dic_4:\n",
      "a\n",
      "b\n",
      "c\n",
      "d\n",
      "for k,v in dic_4.items():\n",
      "key=a,val=1\n",
      "key=b,val=3\n",
      "key=c,val=8\n",
      "key=d,val=0\n"
     ]
    }
   ],
   "source": [
    "lst_1=list(range(19,37,2))\n",
    "print(\"lst_1={}\".format(lst_1))\n",
    "print(\"_\"*50)\n",
    "print(\"for i in lst_1:\")\n",
    "for i in lst_1:\n",
    "    print(i)\n",
    "print(\"for i in range(len(lst_1)):\")\n",
    "for i in range(len(lst_1)):\n",
    "    print(\"idx={},val={}\".format(i,lst_1[i]))\n",
    "print(\"+\"*50)   \n",
    "dic_4=dict(a=1,b=3,c=8,d=0)\n",
    "print(\"dic_4={}\".format(dic_4))\n",
    "print(\"_\"*50)\n",
    "print(\"for k in dic_4:\")\n",
    "for k in dic_4:\n",
    "    print(k)\n",
    "print(\"for k,v in dic_4.items():\")\n",
    "for k,v in dic_4.items():\n",
    "    print(\"key={},val={}\".format(k,v))"
   ]
  },
  {
   "cell_type": "code",
   "execution_count": 64,
   "id": "dc20edb6-f651-4f8d-a8c1-5cdacd11f814",
   "metadata": {},
   "outputs": [
    {
     "name": "stdout",
     "output_type": "stream",
     "text": [
      "x=1\n",
      "x=11\n",
      "x=21\n",
      "x=31\n",
      "x=41\n",
      "x=51\n",
      "x=61\n",
      "x=71\n",
      "x=81\n",
      "x=91\n"
     ]
    }
   ],
   "source": [
    "x=1\n",
    "while x<=100:\n",
    "    print(\"x={}\".format(x))\n",
    "    x+=10 #增量赋值; x*=2     \n"
   ]
  },
  {
   "cell_type": "code",
   "execution_count": 68,
   "id": "e127bd03-aee9-4b20-8165-54e797548d8a",
   "metadata": {},
   "outputs": [
    {
     "name": "stdout",
     "output_type": "stream",
     "text": [
      "x=1\n",
      "x=16\n",
      "x=31\n",
      "x=46\n",
      "sys.maxsize=9223372036854775807\n",
      "i=0\n",
      "i=1\n",
      "i=2\n",
      "i=3\n",
      "i=4\n",
      "i=5\n",
      "i=6\n",
      "i=7\n",
      "i=8\n",
      "i=9\n",
      "i=10\n",
      "i=11\n",
      "i=12\n",
      "i=13\n",
      "i=14\n",
      "i=15\n"
     ]
    }
   ],
   "source": [
    "x=1\n",
    "while x<=150:\n",
    "    print(\"x={}\".format(x))\n",
    "    x+=15 \n",
    "    if x>=50:break    \n",
    "    \n",
    "import sys\n",
    "print(\"sys.maxsize={}\".format(sys.maxsize))\n",
    "for i in range(sys.maxsize):\n",
    "    print(\"i={}\".format(i))  #?\n",
    "    i+=15\n",
    "    if i>=30:break"
   ]
  },
  {
   "cell_type": "code",
   "execution_count": 72,
   "id": "f1904444-09e1-46d5-bc4d-bc157700f7d1",
   "metadata": {},
   "outputs": [
    {
     "name": "stdout",
     "output_type": "stream",
     "text": [
      "zip_lst=zip(lst_a,lst_b)-><zip object at 0x000001E91A3D9900>\n",
      "dict(zip_lst)->{2: 'point_a', 0: 'point_b', 3: 'point_c', 1: 'point_d'}\n",
      "2 point_a\n",
      "0 point_b\n",
      "3 point_c\n",
      "1 point_d\n",
      "a=(2, 0, 3, 1),b=('point_a', 'point_b', 'point_c', 'point_d')\n"
     ]
    }
   ],
   "source": [
    "lst_a=[2,0,3,1]\n",
    "lst_b=['point_a','point_b','point_c','point_d']\n",
    "zip_lst=zip(lst_a,lst_b) #The zip() function takes iterables (can be zero or more), aggregates them in a tuple, and returns it.\n",
    "print(\"zip_lst=zip(lst_a,lst_b)->{}\".format(zip_lst))\n",
    "print(\"dict(zip_lst)->{}\".format(dict(zip_lst)))\n",
    "\n",
    "zip_lst=zip(lst_a,lst_b) #迭代对象临时存储，读取完后为空\n",
    "for a,b in zip_lst:\n",
    "    print(a,b)\n",
    "    \n",
    "zip_lst=zip(lst_a,lst_b)\n",
    "a,b=zip(*zip_lst)\n",
    "print(\"a={},b={}\".format(a,b))"
   ]
  },
  {
   "cell_type": "code",
   "execution_count": 74,
   "id": "eb2900fd-fd7c-4f3d-aa91-a233c93a82cc",
   "metadata": {},
   "outputs": [
    {
     "name": "stdout",
     "output_type": "stream",
     "text": [
      "dic_4={0: 'point_a', 1: 'point_b', 2: 'point_c', 3: 'point_d'}\n",
      "dict((i,v) for i,v in enumerate(lst_c))->{0: 'point_a', 1: 'point_b', 2: 'point_c', 3: 'point_d'}\n",
      "____________________________________________________________\n",
      "0:2,point_a\n",
      "1:0,point_b\n",
      "2:3,point_c\n",
      "3:1,point_d\n"
     ]
    }
   ],
   "source": [
    "lst_c=['point_a','point_b','point_c','point_d']\n",
    "dic_4={}\n",
    "for idx,value in enumerate(lst_c):\n",
    "    dic_4[idx]=value\n",
    "print(\"dic_4={}\".format(dic_4))\n",
    "print(\"dict((i,v) for i,v in enumerate(lst_c))->{}\".format(dict((i,v) for i,v in enumerate(lst_c)))) #list comprehension\n",
    "print(\"_\"*60)\n",
    "for i,(a,b) in enumerate(zip(lst_a,lst_b)):\n",
    "    print('%d:%s,%s'%(i,a,b))"
   ]
  },
  {
   "cell_type": "code",
   "execution_count": 78,
   "id": "564a31d0-1953-4c03-9984-0977d45dd889",
   "metadata": {},
   "outputs": [
    {
     "name": "stdout",
     "output_type": "stream",
     "text": [
      "[x*x for x in range(3,25,5) if x%2==0]->[64, 324]\n",
      "[(x,y) for x in range(3)for y in range(2)]->[(0, 0), (0, 1), (1, 0), (1, 1), (2, 0), (2, 1)]\n",
      "[(x,y) for x,y in zip(range(3),range(2))]->[(0, 0), (1, 1)]\n",
      "[[a for a in range(1,10,3)],2,3,[b for b in range(50,100,7)],[[c for c in range(1000,2000,120)],3,9]]->[[1, 4, 7], 2, 3, [60, 67, 74, 81, 88, 95], [[1000, 1120, 1240, 1360, 1480, 1600, 1720, 1840, 1960], 3, 9]]\n",
      "flatten_lst(nested_list)->[1, 4, 7, 2, 3, 60, 67, 74, 81, 88, 95, 1000, 1120, 1240, 1360, 1480, 1600, 1720, 1840, 1960, 3, 9]\n"
     ]
    }
   ],
   "source": [
    "print(\"[x*x for x in range(3,25,5) if x%2==0]->{}\".format([x*x for x in range(3,25,5) if x%2==0]))\n",
    "print(\"[(x,y) for x in range(3)for y in range(2)]->{}\".format([(x,y) for x in range(3)for y in range(2)]))\n",
    "print(\"[(x,y) for x,y in zip(range(3),range(2))]->{}\".format([(x,y) for x,y in zip(range(3),range(2))]))\n",
    "nested_list=[[a for a in range(1,10,3)],2,3,[b for b in range(60,100,7)],[[c for c in range(1000,2000,120)],3,9]]\n",
    "print(\"[[a for a in range(1,10,3)],2,3,[b for b in range(50,100,7)],[[c for c in range(1000,2000,120)],3,9]]->{}\".format(nested_list)) #嵌套列表推导式\n",
    "\n",
    "flatten_lst=lambda lst: [m for n_lst in lst for m in flatten_lst(n_lst)] if type(lst) is list else [lst] #展平列表常用，可以放置到单独的.py文件中调用。lambda函数后文阐述\n",
    "print(\"flatten_lst(nested_list)->{}\".format(flatten_lst(nested_list)))"
   ]
  },
  {
   "cell_type": "code",
   "execution_count": 81,
   "id": "7fc7dc74-57da-40bf-a836-89cf01e8c1a9",
   "metadata": {},
   "outputs": [
    {
     "name": "stdout",
     "output_type": "stream",
     "text": [
      "Equal to zero.\n"
     ]
    }
   ],
   "source": [
    "x=0\n",
    "if x<0:\n",
    "    print('Eegative.')\n",
    "elif x==0:\n",
    "    print('Equal to zero.')\n",
    "elif 0<x<10:\n",
    "    print('Positive but smaller than 10')\n",
    "else:\n",
    "    print('Positive and larger than or equal to 10.')"
   ]
  },
  {
   "cell_type": "code",
   "execution_count": 83,
   "id": "f95dd384-7c47-4c2c-b16c-cd81e22ebedc",
   "metadata": {},
   "outputs": [
    {
     "name": "stdout",
     "output_type": "stream",
     "text": [
      "x==y->True\n",
      "x is y->True\n",
      "x==z->True\n",
      "x is z->False\n",
      "x is not y->False\n",
      "x is not z->True\n",
      "id_x:2100680391488;id_y:2100680391488;id_z:2100680389824\n",
      "x=[1, 2],y=[1, 2],z=[1, 2, 3] after del x[2]\n"
     ]
    }
   ],
   "source": [
    "x=y=[1,2,3]\n",
    "z=[1,2,3]\n",
    "print(\"x==y->{}\".format(x==y))\n",
    "print(\"x is y->{}\".format(x is y))\n",
    "print(\"x==z->{}\".format(x==z))\n",
    "print(\"x is z->{}\".format(x is z))\n",
    "print(\"x is not y->{}\".format(x is not y))\n",
    "print(\"x is not z->{}\".format(x is not z))\n",
    "print(\"id_x:{};id_y:{};id_z:{}\".format(id(x),id(y),id(z))) \n",
    "\n",
    "del x[2]\n",
    "print(\"x={},y={},z={} after del x[2]\".format(x,y,z))"
   ]
  },
  {
   "cell_type": "code",
   "execution_count": 85,
   "id": "d4e527a3-e3a6-4520-ba83-4e8afe7de1fa",
   "metadata": {},
   "outputs": [
    {
     "name": "stdout",
     "output_type": "stream",
     "text": [
      "3 in x->True\n",
      "0 in x->False\n",
      "3 not in x->False\n",
      "0 not in x->True\n"
     ]
    }
   ],
   "source": [
    "x=[1,2,3]\n",
    "print(\"3 in x->{}\".format(3 in x))\n",
    "print(\"0 in x->{}\".format(0 in x))\n",
    "print(\"3 not in x->{}\".format(3 not in x))\n",
    "print(\"0 not in x->{}\".format(0 not in x))"
   ]
  },
  {
   "cell_type": "code",
   "execution_count": 88,
   "id": "90318f97-4704-4bf1-bcfe-94258c6817ac",
   "metadata": {},
   "outputs": [
    {
     "name": "stdout",
     "output_type": "stream",
     "text": [
      "a<c<b no!no!no!!!\n"
     ]
    }
   ],
   "source": [
    "a,b,c=1,5,8\n",
    "if c>a and c<b:\n",
    "    print('a<c<b')\n",
    "else: print('a<c<b no!no!no!!!')"
   ]
  },
  {
   "cell_type": "code",
   "execution_count": 94,
   "id": "2ffac2d0-436e-443c-9600-36c3151ebdaf",
   "metadata": {},
   "outputs": [
    {
     "name": "stdout",
     "output_type": "stream",
     "text": [
      "simple_func(1,2)->3\n",
      "simple_func(2,1)->5\n",
      "simple_func(y=1,x=2)->5\n"
     ]
    }
   ],
   "source": [
    "def simple_func(x,y):\n",
    "    z=pow(x,2)+y\n",
    "    return z\n",
    "print(\"simple_func(1,2)->{}\".format(simple_func(1,2)))\n",
    "print(\"simple_func(2,1)->{}\".format(simple_func(2,1)))\n",
    "print(\"simple_func(y=1,x=2)->{}\".format(simple_func(y=1,x=2)))"
   ]
  },
  {
   "cell_type": "code",
   "execution_count": 96,
   "id": "3a0d15cb-aa31-4fcf-a172-19062c20b42e",
   "metadata": {},
   "outputs": [
    {
     "name": "stdout",
     "output_type": "stream",
     "text": [
      "fibonacci(6,9)->[5, 8, 13, 21, 34, 55, 89, 144, 233]\n",
      "fibonacci(7,9)->[8, 13, 21, 34, 55, 89, 144, 233, 377]\n"
     ]
    }
   ],
   "source": [
    "def fibonacci(s,count): #不够简便\n",
    "    fib_lst=[0,1]\n",
    "    fib_part=[]\n",
    "    if s==0 or s==1:\n",
    "        fib_part[:]=fib_lst\n",
    "        for i in range(count-2):\n",
    "            fib_part.append(fib_part[-1]+fib_part[-2])\n",
    "    else:\n",
    "        while True:\n",
    "            fib_lst[:]=[fib_lst[1],fib_lst[0]+fib_lst[1]]\n",
    "            #print(fib_lst)\n",
    "            if fib_lst[1]-s>=0:break\n",
    "        fib_part[:]=fib_lst\n",
    "        if abs(fib_lst[0]-s)>=abs(fib_lst[1]-s):\n",
    "            for i in range(count-1):\n",
    "                fib_part.append(fib_part[-1]+fib_part[-2])\n",
    "            fib_part.pop(0)\n",
    "        else:\n",
    "            for i in range(count-2):\n",
    "                fib_part.append(fib_part[-1]+fib_part[-2])\n",
    "    return fib_part\n",
    "\n",
    "print(\"fibonacci(6,9)->{}\".format(fibonacci(6,9)))\n",
    "print(\"fibonacci(7,9)->{}\".format(fibonacci(7,9)))"
   ]
  },
  {
   "cell_type": "code",
   "execution_count": 98,
   "id": "5f41b46c-2c19-46a0-bea4-086e72cd1176",
   "metadata": {},
   "outputs": [
    {
     "name": "stdout",
     "output_type": "stream",
     "text": [
      "40320\n"
     ]
    }
   ],
   "source": [
    "def factorial(n):\n",
    "    if n==1:\n",
    "        return 1\n",
    "    else:\n",
    "        return n*factorial(n-1)\n",
    "print(factorial(8))"
   ]
  },
  {
   "cell_type": "code",
   "execution_count": 102,
   "id": "f935d8c5-45e4-42a2-a191-3f37d72440e7",
   "metadata": {},
   "outputs": [
    {
     "name": "stdout",
     "output_type": "stream",
     "text": [
      "swift.fly->Whirring\n",
      "swift.eat()->\n",
      "Aaaah...\n",
      "swift.eat()->\n",
      "No.Thanks!\n",
      "swift.sing()->\n",
      "Squawk!\n"
     ]
    }
   ],
   "source": [
    "swift=Apodidae()\n",
    "print(\"swift.fly->{}\".format(swift.fly))\n",
    "print(\"swift.eat()->\")\n",
    "swift.eat()\n",
    "print(\"swift.eat()->\")\n",
    "swift.eat()\n",
    "print(\"swift.sing()->\")\n",
    "swift.sing()"
   ]
  },
  {
   "cell_type": "code",
   "execution_count": 103,
   "id": "d6e6d207-732c-445c-8f49-1784b36527fc",
   "metadata": {},
   "outputs": [
    {
     "name": "stdout",
     "output_type": "stream",
     "text": [
      "blackswift.sing()->\n",
      "Squawk!\n",
      "scarceswift.sing()->\n",
      "Squawk!\n"
     ]
    }
   ],
   "source": [
    "blackswift=Apodidae()\n",
    "scarceswift=Apodidae()\n",
    "print(\"blackswift.sing()->\")\n",
    "blackswift.sing()\n",
    "print(\"scarceswift.sing()->\")\n",
    "scarceswift.sing()"
   ]
  },
  {
   "cell_type": "code",
   "execution_count": 104,
   "id": "982c9992-9095-46aa-92e8-c971eec71753",
   "metadata": {},
   "outputs": [
    {
     "name": "stdout",
     "output_type": "stream",
     "text": [
      "blackswift.fly->Whirring\n",
      "blackswift.fly after redefining the blackswif's attribute->humming\n",
      "scarceswift.fly->Whirring\n"
     ]
    }
   ],
   "source": [
    "print(\"blackswift.fly->{}\".format(blackswift.fly))\n",
    "blackswift.fly='humming' #重新赋予实例的属性\n",
    "print(\"blackswift.fly after redefining the blackswif's attribute->{}\".format(blackswift.fly))\n",
    "print(\"scarceswift.fly->{}\".format(scarceswift.fly))"
   ]
  },
  {
   "cell_type": "code",
   "execution_count": 111,
   "id": "55c4a005-9cc1-4bd1-bcc0-82e9b455d2e9",
   "metadata": {},
   "outputs": [
    {
     "name": "stdout",
     "output_type": "stream",
     "text": [
      "fa=[1, 1, 2, 3, 5, 8, 13, 21, 34]\n",
      "fb=[55, 89, 144, 233, 377]\n"
     ]
    }
   ],
   "source": [
    "class Fibs():\n",
    "    def __init__(self):\n",
    "        self.a=0\n",
    "        self.b=1\n",
    "    def next(self):  #实现迭代器的next方法\n",
    "        self.a,self.b=self.b,self.a+self.b\n",
    "        return self.a\n",
    "    def __iter__(self): #实现迭代方法\n",
    "        return self\n",
    "f=Fibs()\n",
    "fa=[]\n",
    "fb=[]\n",
    "for i in range(9):\n",
    "    fa.append(f.next())\n",
    "print(\"fa={}\".format(fa))\n",
    "for i in range(5):\n",
    "    fb.append(f.next())\n",
    "print(\"fb={}\".format(fb))\n"
   ]
  },
  {
   "cell_type": "code",
   "execution_count": 3,
   "id": "c7aa17fb-c768-46af-8129-113ec24825ec",
   "metadata": {},
   "outputs": [
    {
     "name": "stdout",
     "output_type": "stream",
     "text": [
      "lst_d=[3, 5, 7, 9, 11, 13, 15, 17, 19]\n",
      "__________________________________________________\n",
      "next(lst_iter)->3\n",
      "next(lst_iter)->5\n",
      "7\n",
      "9\n",
      "11\n",
      "13\n",
      "15\n",
      "17\n",
      "19\n"
     ]
    }
   ],
   "source": [
    "lst_d=list(range(3,20,2))\n",
    "print(\"lst_d={}\".format(lst_d))\n",
    "print(\"_\"*50)\n",
    "lst_iter=iter(lst_d)\n",
    "print(\"next(lst_iter)->{}\".format(next(lst_iter)))\n",
    "print(\"next(lst_iter)->{}\".format(next(lst_iter)))\n",
    "for i in lst_iter:\n",
    "    print(i)\n"
   ]
  },
  {
   "cell_type": "code",
   "execution_count": 118,
   "id": "b9a2eab8-ef33-401f-a29e-3466045fc797",
   "metadata": {},
   "outputs": [
    {
     "name": "stdout",
     "output_type": "stream",
     "text": [
      "lst_e=[[2, 5, 8], [3, 7, 67, [0, 1, 2, 3, 4], 89]]\n",
      "__________________________________________________\n",
      "flatten_lst=[2, 5, 8, 3, 7, 67, 0, 1, 2, 3, 4, 89]\n"
     ]
    }
   ],
   "source": [
    "lst_e=[list(range(2,10,3)),[3,7,67,list(range(5)),89]]\n",
    "print(\"lst_e={}\".format(lst_e))\n",
    "print(\"_\"*50)\n",
    "flatten_lst=[]\n",
    "for v_1 in lst_e:\n",
    "    try:\n",
    "        for v_2 in v_1:\n",
    "            try:\n",
    "                for v_3 in v_2:\n",
    "                    flatten_lst.append(v_3)\n",
    "            except TypeError:\n",
    "                flatten_lst.append(v_2)\n",
    "    except TypeError:\n",
    "        flatten_lst.append(v_1)\n",
    "print(\"flatten_lst={}\".format(flatten_lst))"
   ]
  },
  {
   "cell_type": "code",
   "execution_count": 121,
   "id": "5b4bb27c-dec7-4687-aae3-09684ad9bc6c",
   "metadata": {},
   "outputs": [
    {
     "name": "stdout",
     "output_type": "stream",
     "text": [
      "next(n)->num#0\n",
      "next(n)->num#1\n",
      "next(n)->num#2\n",
      "[next(n) for i in range(5)]->['num#3', 'num#4', 'num#5', 'num#6']\n"
     ]
    }
   ],
   "source": [
    "def infinite():\n",
    "    n=0\n",
    "    while True:\n",
    "        yield 'num#'+str(n)\n",
    "        n+=1\n",
    "\n",
    "n=infinite()\n",
    "print(\"next(n)->{}\".format(next(n)))\n",
    "print(\"next(n)->{}\".format(next(n)))\n",
    "print(\"next(n)->{}\".format(next(n)))\n",
    "print(\"[next(n) for i in range(5)]->{}\".format([next(n) for i in range(4)]))"
   ]
  },
  {
   "cell_type": "code",
   "execution_count": 122,
   "id": "c5989e0d-d2d6-417c-93bc-9ad08a20b151",
   "metadata": {},
   "outputs": [
    {
     "name": "stdout",
     "output_type": "stream",
     "text": [
      "[[(2*pi*(2*(u/(n-1))-1),2*pi*(2*(v/(n-1))-1)) for u in range(n)] for v in range(n)]->[[(-6.283185307179586, -6.283185307179586), (0.0, -6.283185307179586), (6.283185307179586, -6.283185307179586)], [(-6.283185307179586, 0.0), (0.0, 0.0), (6.283185307179586, 0.0)], [(-6.283185307179586, 6.283185307179586), (0.0, 6.283185307179586), (6.283185307179586, 6.283185307179586)]]\n",
      "__________________________________________________\n",
      "([(2*pi*(2*(u/(n-1))-1),2*pi*(2*(v/(n-1))-1)) for u in range(n)] for v in range(n))-><generator object <genexpr> at 0x000001E91A5A1350>\n",
      "next(gen)->[(-6.283185307179586, -6.283185307179586), (0.0, -6.283185307179586), (6.283185307179586, -6.283185307179586)]\n",
      "next(gen)->[(-6.283185307179586, 0.0), (0.0, 0.0), (6.283185307179586, 0.0)]\n"
     ]
    }
   ],
   "source": [
    "n=3\n",
    "print(\"[[(2*pi*(2*(u/(n-1))-1),2*pi*(2*(v/(n-1))-1)) for u in range(n)] for v in range(n)]->{}\".format([[(2*pi*(2*(u/(n-1))-1),2*pi*(2*(v/(n-1))-1)) for u in range(n)] for v in range(n)]))\n",
    "print(\"_\"*50)\n",
    "print(\"([(2*pi*(2*(u/(n-1))-1),2*pi*(2*(v/(n-1))-1)) for u in range(n)] for v in range(n))->{}\".format(([(2*pi*(2*(u/(n-1))-1),2*pi*(2*(v/(n-1))-1)) for u in range(n)] for v in range(n))))\n",
    "gen=([(2*pi*(2*(u/(n-1))-1),2*pi*(2*(v/(n-1))-1)) for u in range(n)] for v in range(n))\n",
    "print(\"next(gen)->{}\".format(next(gen)))\n",
    "print(\"next(gen)->{}\".format(next(gen)))"
   ]
  }
 ],
 "metadata": {
  "kernelspec": {
   "display_name": "Python 3",
   "language": "python",
   "name": "python3"
  },
  "language_info": {
   "codemirror_mode": {
    "name": "ipython",
    "version": 3
   },
   "file_extension": ".py",
   "mimetype": "text/x-python",
   "name": "python",
   "nbconvert_exporter": "python",
   "pygments_lexer": "ipython3",
   "version": "3.8.8"
  }
 },
 "nbformat": 4,
 "nbformat_minor": 5
}
